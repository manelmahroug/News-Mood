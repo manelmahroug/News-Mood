{
 "cells": [
  {
   "cell_type": "code",
   "execution_count": 88,
   "metadata": {
    "collapsed": true
   },
   "outputs": [],
   "source": [
    "import pandas as pd\n",
    "import matplotlib.pyplot as plt\n",
    "import numpy as np\n",
    "import tweepy\n",
    "from datetime import datetime\n",
    "from vaderSentiment.vaderSentiment import SentimentIntensityAnalyzer\n",
    "analyzer = SentimentIntensityAnalyzer()"
   ]
  },
  {
   "cell_type": "code",
   "execution_count": 89,
   "metadata": {
    "collapsed": true
   },
   "outputs": [],
   "source": [
    "# Twitter API Keys\n",
    "consumer_key = \"7xy8Y9idclPxi4SluDxxuRVoQ\"\n",
    "consumer_secret = \"L6Mw9c27q8nUIW0c5sF8o0qAV7QCsv8tqEpYR5bKtqcE3W6rqQ\"\n",
    "access_token = \"906340601829851136-upXhJ8ahxI95FYlAQHWivFFO4515Y8a\"\n",
    "access_token_secret = \"iSa1fb0Ff4unJ0zPzabUlUBIL29Y3zyEhmLocMBEraA7K\"\n",
    "\n",
    "# Setup Tweepy API Authentication\n",
    "auth = tweepy.OAuthHandler(consumer_key, consumer_secret)\n",
    "auth.set_access_token(access_token, access_token_secret)\n",
    "api = tweepy.API(auth, parser=tweepy.parsers.JSONParser())"
   ]
  },
  {
   "cell_type": "code",
   "execution_count": 90,
   "metadata": {
    "collapsed": true
   },
   "outputs": [],
   "source": [
    "target_users = [\"BBC\",\"CBC\",\"CNN\",\"FoxNews\",\"nytimes\"]"
   ]
  },
  {
   "cell_type": "code",
   "execution_count": 91,
   "metadata": {
    "collapsed": true
   },
   "outputs": [],
   "source": [
    "# List for holding sentiments\n",
    "sentiments =[]"
   ]
  },
  {
   "cell_type": "code",
   "execution_count": 92,
   "metadata": {},
   "outputs": [
    {
     "name": "stdout",
     "output_type": "stream",
     "text": [
      "100\n",
      "100\n",
      "100\n",
      "100\n",
      "100\n"
     ]
    }
   ],
   "source": [
    "# Loop through target users\n",
    "for user in target_users:\n",
    "    tweet_number = 0\n",
    "    public_tweets = api.user_timeline(user, count = 100)\n",
    "    \n",
    "    \n",
    "    for tweet in public_tweets:\n",
    "        \n",
    "        #Run the Vader analysis on each tweet.\n",
    "        compound = analyzer.polarity_scores(tweet[\"text\"])[\"compound\"]\n",
    "        pos = analyzer.polarity_scores(tweet[\"text\"])[\"pos\"]\n",
    "        neu = analyzer.polarity_scores(tweet[\"text\"])[\"neu\"]\n",
    "        neg = analyzer.polarity_scores(tweet[\"text\"])[\"neg\"]\n",
    "        tweet_text = tweet[\"text\"]\n",
    "        tweets_ago = tweet_number\n",
    "        \n",
    "        #Create a dictionary of sentiments\n",
    "        sentiments.append({\"News Source\" : user,\n",
    "                           \"Date\": tweet[\"created_at\"],\n",
    "                           \"Compound\" : compound,\n",
    "                           \"Positive\" : pos,\n",
    "                           \"Negative\" : neg,\n",
    "                           \"Neutral\" : neu,\n",
    "                           \"Tweets ago\": tweet_number,\n",
    "                           \"Tweet Text\": tweet_text})\n",
    "        tweet_number+=1\n",
    "    print(tweet_number)\n",
    " "
   ]
  },
  {
   "cell_type": "code",
   "execution_count": 93,
   "metadata": {
    "scrolled": false
   },
   "outputs": [
    {
     "data": {
      "text/html": [
       "<div>\n",
       "<style>\n",
       "    .dataframe thead tr:only-child th {\n",
       "        text-align: right;\n",
       "    }\n",
       "\n",
       "    .dataframe thead th {\n",
       "        text-align: left;\n",
       "    }\n",
       "\n",
       "    .dataframe tbody tr th {\n",
       "        vertical-align: top;\n",
       "    }\n",
       "</style>\n",
       "<table border=\"1\" class=\"dataframe\">\n",
       "  <thead>\n",
       "    <tr style=\"text-align: right;\">\n",
       "      <th></th>\n",
       "      <th>Compound</th>\n",
       "      <th>Date</th>\n",
       "      <th>Negative</th>\n",
       "      <th>Neutral</th>\n",
       "      <th>News Source</th>\n",
       "      <th>Positive</th>\n",
       "      <th>Tweet Text</th>\n",
       "      <th>Tweets ago</th>\n",
       "    </tr>\n",
       "  </thead>\n",
       "  <tbody>\n",
       "    <tr>\n",
       "      <th>0</th>\n",
       "      <td>0.0000</td>\n",
       "      <td>Tue Mar 20 19:48:04 +0000 2018</td>\n",
       "      <td>0.000</td>\n",
       "      <td>1.000</td>\n",
       "      <td>BBC</td>\n",
       "      <td>0.000</td>\n",
       "      <td>This #WorldFrogDay, why not try making an orig...</td>\n",
       "      <td>0</td>\n",
       "    </tr>\n",
       "    <tr>\n",
       "      <th>1</th>\n",
       "      <td>0.0000</td>\n",
       "      <td>Tue Mar 20 19:03:04 +0000 2018</td>\n",
       "      <td>0.000</td>\n",
       "      <td>1.000</td>\n",
       "      <td>BBC</td>\n",
       "      <td>0.000</td>\n",
       "      <td>Michael Portillo travels across India guided b...</td>\n",
       "      <td>1</td>\n",
       "    </tr>\n",
       "    <tr>\n",
       "      <th>2</th>\n",
       "      <td>-0.3859</td>\n",
       "      <td>Tue Mar 20 18:33:01 +0000 2018</td>\n",
       "      <td>0.160</td>\n",
       "      <td>0.768</td>\n",
       "      <td>BBC</td>\n",
       "      <td>0.071</td>\n",
       "      <td>Can you watch this without laughing? 😹🔊 You'll...</td>\n",
       "      <td>2</td>\n",
       "    </tr>\n",
       "    <tr>\n",
       "      <th>3</th>\n",
       "      <td>0.3400</td>\n",
       "      <td>Tue Mar 20 17:33:03 +0000 2018</td>\n",
       "      <td>0.102</td>\n",
       "      <td>0.738</td>\n",
       "      <td>BBC</td>\n",
       "      <td>0.160</td>\n",
       "      <td>Professor Stephen Hawking's funeral will take ...</td>\n",
       "      <td>3</td>\n",
       "    </tr>\n",
       "    <tr>\n",
       "      <th>4</th>\n",
       "      <td>0.0000</td>\n",
       "      <td>Tue Mar 20 17:03:01 +0000 2018</td>\n",
       "      <td>0.000</td>\n",
       "      <td>1.000</td>\n",
       "      <td>BBC</td>\n",
       "      <td>0.000</td>\n",
       "      <td>Un-bee-lievable! 🐝😍 Meet the woman who kept a ...</td>\n",
       "      <td>4</td>\n",
       "    </tr>\n",
       "  </tbody>\n",
       "</table>\n",
       "</div>"
      ],
      "text/plain": [
       "   Compound                            Date  Negative  Neutral News Source  \\\n",
       "0    0.0000  Tue Mar 20 19:48:04 +0000 2018     0.000    1.000         BBC   \n",
       "1    0.0000  Tue Mar 20 19:03:04 +0000 2018     0.000    1.000         BBC   \n",
       "2   -0.3859  Tue Mar 20 18:33:01 +0000 2018     0.160    0.768         BBC   \n",
       "3    0.3400  Tue Mar 20 17:33:03 +0000 2018     0.102    0.738         BBC   \n",
       "4    0.0000  Tue Mar 20 17:03:01 +0000 2018     0.000    1.000         BBC   \n",
       "\n",
       "   Positive                                         Tweet Text  Tweets ago  \n",
       "0     0.000  This #WorldFrogDay, why not try making an orig...           0  \n",
       "1     0.000  Michael Portillo travels across India guided b...           1  \n",
       "2     0.071  Can you watch this without laughing? 😹🔊 You'll...           2  \n",
       "3     0.160  Professor Stephen Hawking's funeral will take ...           3  \n",
       "4     0.000  Un-bee-lievable! 🐝😍 Meet the woman who kept a ...           4  "
      ]
     },
     "execution_count": 93,
     "metadata": {},
     "output_type": "execute_result"
    }
   ],
   "source": [
    "#create a data frame\n",
    "news_sentiments = pd.DataFrame.from_dict(sentiments)\n",
    "news_sentiments.head()\n"
   ]
  },
  {
   "cell_type": "code",
   "execution_count": 94,
   "metadata": {},
   "outputs": [],
   "source": [
    "BBC_df = news_sentiments.loc[news_sentiments[\"News Source\"] == \"BBC\",:]\n",
    "CBC_df = news_sentiments.loc[news_sentiments[\"News Source\"] == \"CBC\",:]\n",
    "FoxNews_df = news_sentiments.loc[news_sentiments[\"News Source\"] == \"FoxNews\",:]\n",
    "CNN_df = news_sentiments.loc[news_sentiments[\"News Source\"] == \"CNN\",:]\n",
    "Nytimes_df = news_sentiments.loc[news_sentiments[\"News Source\"]==\"nytimes\",:]"
   ]
  },
  {
   "cell_type": "code",
   "execution_count": 96,
   "metadata": {},
   "outputs": [
    {
     "data": {
      "image/png": "[encoded data removed]",
      "text/plain": [
       "<matplotlib.figure.Figure at 0x1111be9e8>"
      ]
     },
     "metadata": {},
     "output_type": "display_data"
    }
   ],
   "source": [
    "#Scatter plots\n",
    "BBC_plot = plt.scatter(x=BBC_df['Tweets ago'], y=BBC_df['Compound'],marker=\"o\",c='lightblue', edgecolors=\"black\",alpha=0.5,label=BBC_df[\"News Source\"])\n",
    "CBC_plot = plt.scatter(x= CBC_df['Tweets ago'], y= CBC_df['Compound'], marker = \"o\", c = 'red', edgecolors='black',alpha=0.5, label = CBC_df[\"News Source\"])\n",
    "Fox_plot = plt.scatter(x= FoxNews_df['Tweets ago'], y= FoxNews_df['Compound'], marker = \"o\", c = 'green', edgecolors='black',alpha=0.5, label = CBC_df[\"News Source\"])\n",
    "CNN_plot = plt.scatter(x= CNN_df['Tweets ago'], y= CNN_df['Compound'], marker = \"o\", c = 'purple', edgecolors='black',alpha=0.5, label = CNN_df[\"News Source\"])\n",
    "Nytimes_plot = plt.scatter(x= Nytimes_df['Tweets ago'], y= Nytimes_df['Compound'], marker = \"o\", c = 'blue', edgecolors='black',alpha=0.5, label = Nytimes_df[\"News Source\"])\n",
    "\n",
    "plt.show()"
   ]
  },
  {
   "cell_type": "code",
   "execution_count": null,
   "metadata": {
    "collapsed": true
   },
   "outputs": [],
   "source": [
    "#export Data Frame into csv\n",
    "news_sentiments.to_csv(\"News_Sentiments.csv\")"
   ]
  },
  {
   "cell_type": "code",
   "execution_count": null,
   "metadata": {},
   "outputs": [],
   "source": [
    "# get the overall sentiment per media and store it in a dataframe\n",
    "sentiment_overall = news_sentiments.groupby('News Source').agg({'Compound': np.mean}).reset_index()\n",
    "sentiment_overall"
   ]
  },
  {
   "cell_type": "code",
   "execution_count": null,
   "metadata": {
    "collapsed": true
   },
   "outputs": [],
   "source": [
    "#datetime.strptime(Date, \"%a %b %d %H:%M:%S %z %Y\")"
   ]
  },
  {
   "cell_type": "code",
   "execution_count": null,
   "metadata": {
    "collapsed": true
   },
   "outputs": [],
   "source": [
    "#plt.scatter(x_axis, data, marker=\"o\", facecolors=\"red\", edgecolors=\"black\", alpha=0.75)"
   ]
  }
 ],
 "metadata": {
  "kernelspec": {
   "display_name": "Python [conda env:PythonData_2]",
   "language": "python",
   "name": "conda-env-PythonData_2-py"
  },
  "language_info": {
   "codemirror_mode": {
    "name": "ipython",
    "version": 3
   },
   "file_extension": ".py",
   "mimetype": "text/x-python",
   "name": "python",
   "nbconvert_exporter": "python",
   "pygments_lexer": "ipython3",
   "version": "3.6.3"
  }
 },
 "nbformat": 4,
 "nbformat_minor": 2
}
