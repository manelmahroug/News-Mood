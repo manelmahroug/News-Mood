{
 "cells": [
  {
   "cell_type": "code",
   "execution_count": 49,
   "metadata": {},
   "outputs": [],
   "source": [
    "import pandas as pd\n",
    "import matplotlib.pyplot as plt\n",
    "import numpy as np\n",
    "import tweepy\n",
    "from datetime import datetime\n",
    "from vaderSentiment.vaderSentiment import SentimentIntensityAnalyzer\n",
    "analyzer = SentimentIntensityAnalyzer()"
   ]
  },
  {
   "cell_type": "code",
   "execution_count": 50,
   "metadata": {
    "collapsed": true
   },
   "outputs": [],
   "source": [
    "# Twitter API Keys\n",
    "consumer_key = \"7xy8Y9idclPxi4SluDxxuRVoQ\"\n",
    "consumer_secret = \"L6Mw9c27q8nUIW0c5sF8o0qAV7QCsv8tqEpYR5bKtqcE3W6rqQ\"\n",
    "access_token = \"906340601829851136-upXhJ8ahxI95FYlAQHWivFFO4515Y8a\"\n",
    "access_token_secret = \"iSa1fb0Ff4unJ0zPzabUlUBIL29Y3zyEhmLocMBEraA7K\"\n",
    "\n",
    "# Setup Tweepy API Authentication\n",
    "auth = tweepy.OAuthHandler(consumer_key, consumer_secret)\n",
    "auth.set_access_token(access_token, access_token_secret)\n",
    "api = tweepy.API(auth, parser=tweepy.parsers.JSONParser())"
   ]
  },
  {
   "cell_type": "code",
   "execution_count": null,
   "metadata": {
    "collapsed": true
   },
   "outputs": [],
   "source": [
    "target_users = [\"BBC\",\"CBC\",\"CNN\",\"FoxNews\",\"nytimes\"]"
   ]
  },
  {
   "cell_type": "code",
   "execution_count": null,
   "metadata": {
    "collapsed": true
   },
   "outputs": [],
   "source": [
    "# List for holding sentiments\n",
    "sentiments =[]"
   ]
  },
  {
   "cell_type": "code",
   "execution_count": 60,
   "metadata": {},
   "outputs": [],
   "source": [
    "# Loop through target users\n",
    "for user in target_users:\n",
    "    \n",
    "    tweet_number = 0\n",
    "    \n",
    "    for x in range(5):\n",
    "        public_tweets = api.user_timeline(user, page = x)\n",
    "    \n",
    "    \n",
    "    for tweet in public_tweets:\n",
    "        \n",
    "        #Run the Vader analysis on each tweet.\n",
    "        compound = analyzer.polarity_scores(tweet[\"text\"])[\"compound\"]\n",
    "        pos = analyzer.polarity_scores(tweet[\"text\"])[\"pos\"]\n",
    "        neu = analyzer.polarity_scores(tweet[\"text\"])[\"neu\"]\n",
    "        neg = analyzer.polarity_scores(tweet[\"text\"])[\"neg\"]\n",
    "        tweet_text = tweet[\"text\"]\n",
    "        tweets_ago = tweet_number\n",
    "        \n",
    "        #Create a dictionary of sentiments\n",
    "        sentiments.append({\"News Source\" : user,\n",
    "                           \"Date\": tweet[\"created_at\"],\n",
    "                           \"Compound\" : compound,\n",
    "                           \"Positive\" : pos,\n",
    "                           \"Negative\" : neg,\n",
    "                           \"Neutral\" : neu,\n",
    "                           \"Tweets ago\": tweet_number,\n",
    "                           \"Tweet Text\": tweet_text})\n",
    "        tweet_number+=1"
   ]
  },
  {
   "cell_type": "code",
   "execution_count": 61,
   "metadata": {},
   "outputs": [
    {
     "data": {
      "text/html": [
       "<div>\n",
       "<style>\n",
       "    .dataframe thead tr:only-child th {\n",
       "        text-align: right;\n",
       "    }\n",
       "\n",
       "    .dataframe thead th {\n",
       "        text-align: left;\n",
       "    }\n",
       "\n",
       "    .dataframe tbody tr th {\n",
       "        vertical-align: top;\n",
       "    }\n",
       "</style>\n",
       "<table border=\"1\" class=\"dataframe\">\n",
       "  <thead>\n",
       "    <tr style=\"text-align: right;\">\n",
       "      <th></th>\n",
       "      <th>Compound</th>\n",
       "      <th>Date</th>\n",
       "      <th>Negative</th>\n",
       "      <th>Neutral</th>\n",
       "      <th>News Source</th>\n",
       "      <th>Positive</th>\n",
       "      <th>Tweet Count</th>\n",
       "      <th>Tweet Text</th>\n",
       "      <th>Tweets ago</th>\n",
       "    </tr>\n",
       "  </thead>\n",
       "  <tbody>\n",
       "    <tr>\n",
       "      <th>0</th>\n",
       "      <td>0.3400</td>\n",
       "      <td>Tue Mar 20 17:33:03 +0000 2018</td>\n",
       "      <td>0.102</td>\n",
       "      <td>0.738</td>\n",
       "      <td>BBC</td>\n",
       "      <td>0.160</td>\n",
       "      <td>1.0</td>\n",
       "      <td>Professor Stephen Hawking's funeral will take ...</td>\n",
       "      <td>NaN</td>\n",
       "    </tr>\n",
       "    <tr>\n",
       "      <th>1</th>\n",
       "      <td>0.0000</td>\n",
       "      <td>Tue Mar 20 17:03:01 +0000 2018</td>\n",
       "      <td>0.000</td>\n",
       "      <td>1.000</td>\n",
       "      <td>BBC</td>\n",
       "      <td>0.000</td>\n",
       "      <td>2.0</td>\n",
       "      <td>Un-bee-lievable! 🐝😍 Meet the woman who kept a ...</td>\n",
       "      <td>NaN</td>\n",
       "    </tr>\n",
       "    <tr>\n",
       "      <th>2</th>\n",
       "      <td>0.0000</td>\n",
       "      <td>Tue Mar 20 16:05:04 +0000 2018</td>\n",
       "      <td>0.000</td>\n",
       "      <td>1.000</td>\n",
       "      <td>BBC</td>\n",
       "      <td>0.000</td>\n",
       "      <td>3.0</td>\n",
       "      <td>Arise, Sir Ringo! 🎖🎶@thebeatles drummer @ringo...</td>\n",
       "      <td>NaN</td>\n",
       "    </tr>\n",
       "    <tr>\n",
       "      <th>3</th>\n",
       "      <td>0.0000</td>\n",
       "      <td>Tue Mar 20 15:33:03 +0000 2018</td>\n",
       "      <td>0.000</td>\n",
       "      <td>1.000</td>\n",
       "      <td>BBC</td>\n",
       "      <td>0.000</td>\n",
       "      <td>4.0</td>\n",
       "      <td>The first polar bear cub to be born in the UK ...</td>\n",
       "      <td>NaN</td>\n",
       "    </tr>\n",
       "    <tr>\n",
       "      <th>4</th>\n",
       "      <td>0.4084</td>\n",
       "      <td>Tue Mar 20 15:03:02 +0000 2018</td>\n",
       "      <td>0.000</td>\n",
       "      <td>0.868</td>\n",
       "      <td>BBC</td>\n",
       "      <td>0.132</td>\n",
       "      <td>5.0</td>\n",
       "      <td>'Everybody has a voice'. ❤️️🎶\\n\\nRugby legends...</td>\n",
       "      <td>NaN</td>\n",
       "    </tr>\n",
       "  </tbody>\n",
       "</table>\n",
       "</div>"
      ],
      "text/plain": [
       "   Compound                            Date  Negative  Neutral News Source  \\\n",
       "0    0.3400  Tue Mar 20 17:33:03 +0000 2018     0.102    0.738         BBC   \n",
       "1    0.0000  Tue Mar 20 17:03:01 +0000 2018     0.000    1.000         BBC   \n",
       "2    0.0000  Tue Mar 20 16:05:04 +0000 2018     0.000    1.000         BBC   \n",
       "3    0.0000  Tue Mar 20 15:33:03 +0000 2018     0.000    1.000         BBC   \n",
       "4    0.4084  Tue Mar 20 15:03:02 +0000 2018     0.000    0.868         BBC   \n",
       "\n",
       "   Positive  Tweet Count                                         Tweet Text  \\\n",
       "0     0.160          1.0  Professor Stephen Hawking's funeral will take ...   \n",
       "1     0.000          2.0  Un-bee-lievable! 🐝😍 Meet the woman who kept a ...   \n",
       "2     0.000          3.0  Arise, Sir Ringo! 🎖🎶@thebeatles drummer @ringo...   \n",
       "3     0.000          4.0  The first polar bear cub to be born in the UK ...   \n",
       "4     0.132          5.0  'Everybody has a voice'. ❤️️🎶\\n\\nRugby legends...   \n",
       "\n",
       "   Tweets ago  \n",
       "0         NaN  \n",
       "1         NaN  \n",
       "2         NaN  \n",
       "3         NaN  \n",
       "4         NaN  "
      ]
     },
     "execution_count": 61,
     "metadata": {},
     "output_type": "execute_result"
    }
   ],
   "source": [
    "#create a data frame\n",
    "news_sentiments = pd.DataFrame.from_dict(sentiments)\n",
    "news_sentiments.head()"
   ]
  },
  {
   "cell_type": "code",
   "execution_count": 54,
   "metadata": {
    "collapsed": true
   },
   "outputs": [],
   "source": [
    "#export Data Frame into csv\n",
    "news_sentiments.to_csv(\"News_Sentiments.csv\")"
   ]
  },
  {
   "cell_type": "code",
   "execution_count": 64,
   "metadata": {},
   "outputs": [
    {
     "data": {
      "text/html": [
       "<div>\n",
       "<style>\n",
       "    .dataframe thead tr:only-child th {\n",
       "        text-align: right;\n",
       "    }\n",
       "\n",
       "    .dataframe thead th {\n",
       "        text-align: left;\n",
       "    }\n",
       "\n",
       "    .dataframe tbody tr th {\n",
       "        vertical-align: top;\n",
       "    }\n",
       "</style>\n",
       "<table border=\"1\" class=\"dataframe\">\n",
       "  <thead>\n",
       "    <tr style=\"text-align: right;\">\n",
       "      <th></th>\n",
       "      <th>News Source</th>\n",
       "      <th>Compound</th>\n",
       "    </tr>\n",
       "  </thead>\n",
       "  <tbody>\n",
       "    <tr>\n",
       "      <th>0</th>\n",
       "      <td>BBC</td>\n",
       "      <td>0.141409</td>\n",
       "    </tr>\n",
       "    <tr>\n",
       "      <th>1</th>\n",
       "      <td>CBC</td>\n",
       "      <td>0.527259</td>\n",
       "    </tr>\n",
       "    <tr>\n",
       "      <th>2</th>\n",
       "      <td>CNN</td>\n",
       "      <td>-0.128271</td>\n",
       "    </tr>\n",
       "    <tr>\n",
       "      <th>3</th>\n",
       "      <td>FoxNews</td>\n",
       "      <td>-0.146521</td>\n",
       "    </tr>\n",
       "    <tr>\n",
       "      <th>4</th>\n",
       "      <td>nytimes</td>\n",
       "      <td>-0.031629</td>\n",
       "    </tr>\n",
       "  </tbody>\n",
       "</table>\n",
       "</div>"
      ],
      "text/plain": [
       "  News Source  Compound\n",
       "0         BBC  0.141409\n",
       "1         CBC  0.527259\n",
       "2         CNN -0.128271\n",
       "3     FoxNews -0.146521\n",
       "4     nytimes -0.031629"
      ]
     },
     "execution_count": 64,
     "metadata": {},
     "output_type": "execute_result"
    }
   ],
   "source": [
    "# get the overall sentiment per media and store it in a dataframe\n",
    "sentiment_overall = news_sentiments.groupby('News Source').agg({'Compound': np.mean}).reset_index()\n",
    "sentiment_overall"
   ]
  },
  {
   "cell_type": "code",
   "execution_count": null,
   "metadata": {
    "collapsed": true
   },
   "outputs": [],
   "source": [
    "#datetime.strptime(Date, \"%a %b %d %H:%M:%S %z %Y\")"
   ]
  },
  {
   "cell_type": "code",
   "execution_count": 57,
   "metadata": {},
   "outputs": [],
   "source": [
    "#plt.scatter(x_axis, data, marker=\"o\", facecolors=\"red\", edgecolors=\"black\", s=x_axis, alpha=0.75)"
   ]
  }
 ],
 "metadata": {
  "kernelspec": {
   "display_name": "Python [conda env:PythonData_2]",
   "language": "python",
   "name": "conda-env-PythonData_2-py"
  },
  "language_info": {
   "codemirror_mode": {
    "name": "ipython",
    "version": 3
   },
   "file_extension": ".py",
   "mimetype": "text/x-python",
   "name": "python",
   "nbconvert_exporter": "python",
   "pygments_lexer": "ipython3",
   "version": "3.6.3"
  }
 },
 "nbformat": 4,
 "nbformat_minor": 2
}
