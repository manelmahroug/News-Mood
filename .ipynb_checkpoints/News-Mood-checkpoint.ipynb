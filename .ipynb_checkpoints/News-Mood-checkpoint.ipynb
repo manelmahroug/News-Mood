{
 "cells": [
  {
   "cell_type": "code",
   "execution_count": 19,
   "metadata": {
    "collapsed": true
   },
   "outputs": [],
   "source": [
    "import pandas as pd\n",
    "import matplotlib.pyplot as plt\n",
    "import numpy as np\n",
    "import tweepy\n",
    "from datetime import datetime\n",
    "from vaderSentiment.vaderSentiment import SentimentIntensityAnalyzer\n",
    "analyzer = SentimentIntensityAnalyzer()"
   ]
  },
  {
   "cell_type": "code",
   "execution_count": 20,
   "metadata": {
    "collapsed": true
   },
   "outputs": [],
   "source": [
    "# Twitter API Keys\n",
    "consumer_key = \"7xy8Y9idclPxi4SluDxxuRVoQ\"\n",
    "consumer_secret = \"L6Mw9c27q8nUIW0c5sF8o0qAV7QCsv8tqEpYR5bKtqcE3W6rqQ\"\n",
    "access_token = \"906340601829851136-upXhJ8ahxI95FYlAQHWivFFO4515Y8a\"\n",
    "access_token_secret = \"iSa1fb0Ff4unJ0zPzabUlUBIL29Y3zyEhmLocMBEraA7K\"\n",
    "\n",
    "# Setup Tweepy API Authentication\n",
    "auth = tweepy.OAuthHandler(consumer_key, consumer_secret)\n",
    "auth.set_access_token(access_token, access_token_secret)\n",
    "api = tweepy.API(auth, parser=tweepy.parsers.JSONParser())"
   ]
  },
  {
   "cell_type": "code",
   "execution_count": 21,
   "metadata": {
    "collapsed": true
   },
   "outputs": [],
   "source": [
    "target_users = [\"BBC\",\"CBC\",\"CNN\",\"FoxNews\",\"nytimes\"]"
   ]
  },
  {
   "cell_type": "code",
   "execution_count": 22,
   "metadata": {
    "collapsed": true
   },
   "outputs": [],
   "source": [
    "# List for holding sentiments\n",
    "sentiments =[]"
   ]
  },
  {
   "cell_type": "code",
   "execution_count": 23,
   "metadata": {},
   "outputs": [],
   "source": [
    "# Loop through target users\n",
    "for user in target_users:\n",
    "    tweet_number = 0\n",
    "    public_tweets = api.user_timeline(user, count = 100)\n",
    "    \n",
    "    \n",
    "    for tweet in public_tweets:\n",
    "        \n",
    "        #Run the Vader analysis on each tweet.\n",
    "        compound = analyzer.polarity_scores(tweet[\"text\"])[\"compound\"]\n",
    "        pos = analyzer.polarity_scores(tweet[\"text\"])[\"pos\"]\n",
    "        neu = analyzer.polarity_scores(tweet[\"text\"])[\"neu\"]\n",
    "        neg = analyzer.polarity_scores(tweet[\"text\"])[\"neg\"]\n",
    "        tweet_text = tweet[\"text\"]\n",
    "        tweets_ago = tweet_number\n",
    "        timestamp = tweet['created_at']\n",
    "        converted_timestamp = datetime.strptime(timestamp, '%a %b %d %H:%M:%S %z %Y').date()\n",
    "        \n",
    "        #Create a dictionary of sentiments\n",
    "        sentiments.append({\"News Source\" : user,\n",
    "                           \"Date\": converted_timestamp,\n",
    "                           \"Compound\" : compound,\n",
    "                           \"Positive\" : pos,\n",
    "                           \"Negative\" : neg,\n",
    "                           \"Neutral\" : neu,\n",
    "                           \"Tweets ago\": tweet_number,\n",
    "                           \"Tweet Text\": tweet_text})\n",
    "        tweet_number+=1\n",
    "\n",
    " "
   ]
  },
  {
   "cell_type": "code",
   "execution_count": 24,
   "metadata": {
    "scrolled": false
   },
   "outputs": [
    {
     "data": {
      "text/html": [
       "<div>\n",
       "<style>\n",
       "    .dataframe thead tr:only-child th {\n",
       "        text-align: right;\n",
       "    }\n",
       "\n",
       "    .dataframe thead th {\n",
       "        text-align: left;\n",
       "    }\n",
       "\n",
       "    .dataframe tbody tr th {\n",
       "        vertical-align: top;\n",
       "    }\n",
       "</style>\n",
       "<table border=\"1\" class=\"dataframe\">\n",
       "  <thead>\n",
       "    <tr style=\"text-align: right;\">\n",
       "      <th></th>\n",
       "      <th>Compound</th>\n",
       "      <th>Date</th>\n",
       "      <th>Negative</th>\n",
       "      <th>Neutral</th>\n",
       "      <th>News Source</th>\n",
       "      <th>Positive</th>\n",
       "      <th>Tweet Text</th>\n",
       "      <th>Tweets ago</th>\n",
       "    </tr>\n",
       "  </thead>\n",
       "  <tbody>\n",
       "    <tr>\n",
       "      <th>0</th>\n",
       "      <td>0.0000</td>\n",
       "      <td>2018-03-21</td>\n",
       "      <td>0.000</td>\n",
       "      <td>1.000</td>\n",
       "      <td>BBC</td>\n",
       "      <td>0.000</td>\n",
       "      <td>Watch as @ZoeTheBall attempts to cycle over 30...</td>\n",
       "      <td>0</td>\n",
       "    </tr>\n",
       "    <tr>\n",
       "      <th>1</th>\n",
       "      <td>-0.5994</td>\n",
       "      <td>2018-03-21</td>\n",
       "      <td>0.163</td>\n",
       "      <td>0.837</td>\n",
       "      <td>BBC</td>\n",
       "      <td>0.000</td>\n",
       "      <td>Who were my parents - and why was I left on a ...</td>\n",
       "      <td>1</td>\n",
       "    </tr>\n",
       "    <tr>\n",
       "      <th>2</th>\n",
       "      <td>0.4249</td>\n",
       "      <td>2018-03-21</td>\n",
       "      <td>0.000</td>\n",
       "      <td>0.865</td>\n",
       "      <td>BBC</td>\n",
       "      <td>0.135</td>\n",
       "      <td>😍🍫You really can't go wrong with a recipe from...</td>\n",
       "      <td>2</td>\n",
       "    </tr>\n",
       "    <tr>\n",
       "      <th>3</th>\n",
       "      <td>0.4939</td>\n",
       "      <td>2018-03-21</td>\n",
       "      <td>0.000</td>\n",
       "      <td>0.868</td>\n",
       "      <td>BBC</td>\n",
       "      <td>0.132</td>\n",
       "      <td>Is it too late to save the oceans from plastic...</td>\n",
       "      <td>3</td>\n",
       "    </tr>\n",
       "    <tr>\n",
       "      <th>4</th>\n",
       "      <td>0.4019</td>\n",
       "      <td>2018-03-21</td>\n",
       "      <td>0.000</td>\n",
       "      <td>0.886</td>\n",
       "      <td>BBC</td>\n",
       "      <td>0.114</td>\n",
       "      <td>RT @bbcmusic: Anne-Marie, Kylie Minogue, Ladys...</td>\n",
       "      <td>4</td>\n",
       "    </tr>\n",
       "  </tbody>\n",
       "</table>\n",
       "</div>"
      ],
      "text/plain": [
       "   Compound        Date  Negative  Neutral News Source  Positive  \\\n",
       "0    0.0000  2018-03-21     0.000    1.000         BBC     0.000   \n",
       "1   -0.5994  2018-03-21     0.163    0.837         BBC     0.000   \n",
       "2    0.4249  2018-03-21     0.000    0.865         BBC     0.135   \n",
       "3    0.4939  2018-03-21     0.000    0.868         BBC     0.132   \n",
       "4    0.4019  2018-03-21     0.000    0.886         BBC     0.114   \n",
       "\n",
       "                                          Tweet Text  Tweets ago  \n",
       "0  Watch as @ZoeTheBall attempts to cycle over 30...           0  \n",
       "1  Who were my parents - and why was I left on a ...           1  \n",
       "2  😍🍫You really can't go wrong with a recipe from...           2  \n",
       "3  Is it too late to save the oceans from plastic...           3  \n",
       "4  RT @bbcmusic: Anne-Marie, Kylie Minogue, Ladys...           4  "
      ]
     },
     "execution_count": 24,
     "metadata": {},
     "output_type": "execute_result"
    }
   ],
   "source": [
    "#create a data frame\n",
    "news_sentiments = pd.DataFrame.from_dict(sentiments)\n",
    "news_sentiments.head()"
   ]
  },
  {
   "cell_type": "code",
   "execution_count": 25,
   "metadata": {
    "collapsed": true
   },
   "outputs": [],
   "source": [
    "BBC_df = news_sentiments.loc[news_sentiments[\"News Source\"] == \"BBC\",:]\n",
    "CBC_df = news_sentiments.loc[news_sentiments[\"News Source\"] == \"CBC\",:]\n",
    "FoxNews_df = news_sentiments.loc[news_sentiments[\"News Source\"] == \"FoxNews\",:]\n",
    "CNN_df = news_sentiments.loc[news_sentiments[\"News Source\"] == \"CNN\",:]\n",
    "Nytimes_df = news_sentiments.loc[news_sentiments[\"News Source\"]==\"nytimes\",:]"
   ]
  },
  {
   "cell_type": "code",
   "execution_count": 38,
   "metadata": {},
   "outputs": [
    {
     "data": {
      "image/png": "[encoded data removed]",
      "text/plain": [
       "<matplotlib.figure.Figure at 0x114bdacf8>"
      ]
     },
     "metadata": {},
     "output_type": "display_data"
    },
    {
     "data": {
      "text/plain": [
       "<matplotlib.figure.Figure at 0x11498cf98>"
      ]
     },
     "metadata": {},
     "output_type": "display_data"
    }
   ],
   "source": [
    "#Scatter plots\n",
    "BBC_plot = plt.scatter(x=BBC_df['Tweets ago'], y=BBC_df['Compound'],marker=\"o\",c='lightblue', edgecolors=\"black\",alpha=0.5, label= \"BBC\")\n",
    "CBC_plot = plt.scatter(x= CBC_df['Tweets ago'], y= CBC_df['Compound'], marker = \"o\", c = 'red', edgecolors='black',alpha=0.5, label = \"CBC\")\n",
    "Fox_plot = plt.scatter(x= FoxNews_df['Tweets ago'], y= FoxNews_df['Compound'], marker = \"o\", c = 'green', edgecolors='black',alpha=0.5, label = \"Fox News\")\n",
    "CNN_plot = plt.scatter(x= CNN_df['Tweets ago'], y= CNN_df['Compound'], marker = \"o\", c = 'purple', edgecolors='black',alpha=0.5, label = \"CNN\")\n",
    "Nytimes_plot = plt.scatter(x= Nytimes_df['Tweets ago'], y= Nytimes_df['Compound'], marker = \"o\", c = 'blue', edgecolors='black',alpha=0.5, label = \"New York Times\")\n",
    "\n",
    "\n",
    "\n",
    "\n",
    "#Add legend\n",
    "plt.legend(bbox_to_anchor = (1,1))\n",
    "\n",
    "\n",
    "#Add title, x axis label, and y axis label.\n",
    "plt.title(\"Sentiment Analysis of Media Tweets\")\n",
    "plt.xlabel(\"Tweets Ago\")\n",
    "plt.ylabel(\"Tweet Polarity\")\n",
    "\n",
    "#Set a grid on the plot.\n",
    "plt.grid()\n",
    "\n",
    "#Adding size\n",
    "fig = plt.figure(figsize=(20, 10))\n",
    "\n",
    "plt.savefig(\"Sentiment Analysis of Media Tweets\")\n",
    "plt.show()\n",
    " \n",
    " "
   ]
  },
  {
   "cell_type": "code",
   "execution_count": 27,
   "metadata": {
    "collapsed": true
   },
   "outputs": [],
   "source": [
    "#export Data Frame into csv\n",
    "news_sentiments.to_csv(\"News_Sentiments.csv\")"
   ]
  },
  {
   "cell_type": "code",
   "execution_count": 28,
   "metadata": {},
   "outputs": [
    {
     "data": {
      "text/html": [
       "<div>\n",
       "<style>\n",
       "    .dataframe thead tr:only-child th {\n",
       "        text-align: right;\n",
       "    }\n",
       "\n",
       "    .dataframe thead th {\n",
       "        text-align: left;\n",
       "    }\n",
       "\n",
       "    .dataframe tbody tr th {\n",
       "        vertical-align: top;\n",
       "    }\n",
       "</style>\n",
       "<table border=\"1\" class=\"dataframe\">\n",
       "  <thead>\n",
       "    <tr style=\"text-align: right;\">\n",
       "      <th></th>\n",
       "      <th>News Source</th>\n",
       "      <th>Compound</th>\n",
       "    </tr>\n",
       "  </thead>\n",
       "  <tbody>\n",
       "    <tr>\n",
       "      <th>0</th>\n",
       "      <td>BBC</td>\n",
       "      <td>0.127989</td>\n",
       "    </tr>\n",
       "    <tr>\n",
       "      <th>1</th>\n",
       "      <td>CBC</td>\n",
       "      <td>0.520248</td>\n",
       "    </tr>\n",
       "    <tr>\n",
       "      <th>2</th>\n",
       "      <td>CNN</td>\n",
       "      <td>-0.082066</td>\n",
       "    </tr>\n",
       "    <tr>\n",
       "      <th>3</th>\n",
       "      <td>FoxNews</td>\n",
       "      <td>-0.053442</td>\n",
       "    </tr>\n",
       "    <tr>\n",
       "      <th>4</th>\n",
       "      <td>nytimes</td>\n",
       "      <td>-0.032378</td>\n",
       "    </tr>\n",
       "  </tbody>\n",
       "</table>\n",
       "</div>"
      ],
      "text/plain": [
       "  News Source  Compound\n",
       "0         BBC  0.127989\n",
       "1         CBC  0.520248\n",
       "2         CNN -0.082066\n",
       "3     FoxNews -0.053442\n",
       "4     nytimes -0.032378"
      ]
     },
     "execution_count": 28,
     "metadata": {},
     "output_type": "execute_result"
    }
   ],
   "source": [
    "# get the overall sentiment per media and store it in a dataframe\n",
    "sentiment_overall = news_sentiments.groupby('News Source').agg({'Compound': np.mean}).reset_index() \n",
    "sentiment_overall"
   ]
  },
  {
   "cell_type": "code",
   "execution_count": 29,
   "metadata": {},
   "outputs": [
    {
     "data": {
      "image/png": "[encoded data removed]",
      "text/plain": [
       "<matplotlib.figure.Figure at 0x10b31d5c0>"
      ]
     },
     "metadata": {},
     "output_type": "display_data"
    }
   ],
   "source": [
    "#set the axis\n",
    "x_axis = np.arange(len (sentiment_overall['News Source']))\n",
    "avg_compound = sentiment_overall['Compound']\n",
    "\n",
    "#set figure size\n",
    "plt.figure(figsize=(10,7))\n",
    "\n",
    "#set colors\n",
    "colors = {\"BBC\": \"blue\", \"CBC\": \"green\", \"CNN\": \"red\", \n",
    "          \"FoxNews\": \"gold\", \"nytimes\": \"darkslategray\"}\n",
    "\n",
    "#plot bar\n",
    "# Plot bars\n",
    "sentiment_bar= plt.bar(x_axis, avg_compound, color = sentiment_overall['News Source'].map(colors), \n",
    "                  edgecolor='black', alpha=1, align=\"edge\")\n",
    "\n",
    "# Place tick locations and label\n",
    "tick_locations = [value+0.4 for value in x_axis]\n",
    "plt.xticks(tick_locations, [\"BBC\", \"CBC\", \"CNN\", \"Fox News\", \"The New York Times\"])\n",
    "\n",
    "# Labels\n",
    "plt.title('Overall Media Sentiment Based on Twitter', fontsize=16)\n",
    "plt.xlabel('Media Sources', fontsize=14)\n",
    "plt.ylabel('Tweet Polarity', fontsize=14)\n",
    "\n",
    "# Save and show\n",
    "plt.savefig('media_overall.png')\n",
    "plt.show()\n"
   ]
  }
 ],
 "metadata": {
  "kernelspec": {
   "display_name": "Python [conda env:PythonData_2]",
   "language": "python",
   "name": "conda-env-PythonData_2-py"
  },
  "language_info": {
   "codemirror_mode": {
    "name": "ipython",
    "version": 3
   },
   "file_extension": ".py",
   "mimetype": "text/x-python",
   "name": "python",
   "nbconvert_exporter": "python",
   "pygments_lexer": "ipython3",
   "version": "3.6.3"
  }
 },
 "nbformat": 4,
 "nbformat_minor": 2
}
